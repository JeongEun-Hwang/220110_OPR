{
  "nbformat": 4,
  "nbformat_minor": 0,
  "metadata": {
    "colab": {
      "name": "220106 수업: List~_ Bigdataclassnote.ipynb",
      "provenance": [],
      "collapsed_sections": [],
      "toc_visible": true,
      "authorship_tag": "ABX9TyPTnVfNYCMWwQSW1IDu6+/b",
      "include_colab_link": true
    },
    "kernelspec": {
      "name": "python3",
      "display_name": "Python 3"
    },
    "language_info": {
      "name": "python"
    }
  },
  "cells": [
    {
      "cell_type": "markdown",
      "metadata": {
        "id": "view-in-github",
        "colab_type": "text"
      },
      "source": [
        "<a href=\"https://colab.research.google.com/github/JeongEun-Hwang/220110_OPR/blob/master/220106_%EC%88%98%EC%97%85_List~__Bigdataclassnote.ipynb\" target=\"_parent\"><img src=\"https://colab.research.google.com/assets/colab-badge.svg\" alt=\"Open In Colab\"/></a>"
      ]
    },
    {
      "cell_type": "markdown",
      "source": [
        "#**List**"
      ],
      "metadata": {
        "id": "7s_dU8bD1taK"
      }
    },
    {
      "cell_type": "code",
      "execution_count": 10,
      "metadata": {
        "colab": {
          "base_uri": "https://localhost:8080/"
        },
        "id": "7H7F89D7k-JK",
        "outputId": "6b81210d-e6de-4a61-f29e-9b2cd3df3a02"
      },
      "outputs": [
        {
          "output_type": "execute_result",
          "data": {
            "text/plain": [
              "[1, 2.3, 4, 5]"
            ]
          },
          "metadata": {},
          "execution_count": 10
        }
      ],
      "source": [
        "data = [1,2.3,4,5]\n",
        "data"
      ]
    },
    {
      "cell_type": "code",
      "source": [
        "strlist = ['I', 'love', 'you']"
      ],
      "metadata": {
        "id": "c-MTYedfmSiK"
      },
      "execution_count": null,
      "outputs": []
    },
    {
      "cell_type": "code",
      "source": [
        "type(strlist)"
      ],
      "metadata": {
        "colab": {
          "base_uri": "https://localhost:8080/"
        },
        "id": "L8rZTD-ynUx3",
        "outputId": "1a347fbd-b02a-41f7-c3a6-fee35f193689"
      },
      "execution_count": 9,
      "outputs": [
        {
          "output_type": "execute_result",
          "data": {
            "text/plain": [
              "list"
            ]
          },
          "metadata": {},
          "execution_count": 9
        }
      ]
    },
    {
      "cell_type": "markdown",
      "source": [
        " list [ ]안의 것들은 하나하나 elemet/ 요소 한다. \n",
        "\n",
        " **list 안의 요소들은 동일한 포멧으로 작성하는 것이 가장 좋다 **\n",
        "  \n",
        " **indexing = index를 가지고 특정 위치의  값을 가져오는 것을 말한다. **\n"
      ],
      "metadata": {
        "id": "ZVdR-2j4mv6F"
      }
    },
    {
      "cell_type": "code",
      "source": [
        "strlist = list('I love you')\n",
        "strlist"
      ],
      "metadata": {
        "colab": {
          "base_uri": "https://localhost:8080/"
        },
        "id": "6Xxvq4A1nTL9",
        "outputId": "deea6ecf-2e6f-44e0-f3ec-64bee517b0b3"
      },
      "execution_count": 4,
      "outputs": [
        {
          "output_type": "execute_result",
          "data": {
            "text/plain": [
              "['I', ' ', 'l', 'o', 'v', 'e', ' ', 'y', 'o', 'u']"
            ]
          },
          "metadata": {},
          "execution_count": 4
        }
      ]
    },
    {
      "cell_type": "markdown",
      "source": [
        "strlist\n",
        "변수명 지정시 데이터 타입(이름)을 넣어 지정하는 경우도 있다.  "
      ],
      "metadata": {
        "id": "z9gH2bibpgPH"
      }
    },
    {
      "cell_type": "code",
      "source": [
        "data =[1,2,3,4,5]\n",
        "\n",
        "data[0] "
      ],
      "metadata": {
        "colab": {
          "base_uri": "https://localhost:8080/"
        },
        "id": "tftIrBd3ncKp",
        "outputId": "bceb6f8b-0496-47eb-abbe-f4c4c37c747d"
      },
      "execution_count": 37,
      "outputs": [
        {
          "output_type": "execute_result",
          "data": {
            "text/plain": [
              "1"
            ]
          },
          "metadata": {},
          "execution_count": 37
        }
      ]
    },
    {
      "cell_type": "markdown",
      "source": [
        "data list의 0번째 값은 1\n"
      ],
      "metadata": {
        "id": "tIqSQciTn5mg"
      }
    },
    {
      "cell_type": "code",
      "source": [
        "data[0] + data[1]"
      ],
      "metadata": {
        "colab": {
          "base_uri": "https://localhost:8080/"
        },
        "id": "BI_Bk7UqoTGZ",
        "outputId": "76957d12-88e4-4f9b-b3ef-44b388ef11cb"
      },
      "execution_count": 6,
      "outputs": [
        {
          "output_type": "execute_result",
          "data": {
            "text/plain": [
              "3.3"
            ]
          },
          "metadata": {},
          "execution_count": 6
        }
      ]
    },
    {
      "cell_type": "markdown",
      "source": [
        "\n",
        "list의 연산은 요소(element)단위로 가능하다. \n",
        "더하기 연산도 가능하다"
      ],
      "metadata": {
        "id": "HnEsn7rEode_"
      }
    },
    {
      "cell_type": "code",
      "source": [
        "data[-1]"
      ],
      "metadata": {
        "colab": {
          "base_uri": "https://localhost:8080/"
        },
        "id": "MXKSxdckocij",
        "outputId": "6a687120-9691-4228-cf7f-485383248df4"
      },
      "execution_count": 8,
      "outputs": [
        {
          "output_type": "execute_result",
          "data": {
            "text/plain": [
              "5"
            ]
          },
          "metadata": {},
          "execution_count": 8
        }
      ]
    },
    {
      "cell_type": "code",
      "source": [
        "comlist2 =[1,2,['i','love','you']]"
      ],
      "metadata": {
        "id": "zmYmfO-6oq4Q"
      },
      "execution_count": 13,
      "outputs": []
    },
    {
      "cell_type": "code",
      "source": [
        "comlist2[0]"
      ],
      "metadata": {
        "colab": {
          "base_uri": "https://localhost:8080/"
        },
        "id": "SI6Ekt9No6QZ",
        "outputId": "1a56dc80-3d15-419e-819a-2606e9ba0e70"
      },
      "execution_count": 14,
      "outputs": [
        {
          "output_type": "execute_result",
          "data": {
            "text/plain": [
              "1"
            ]
          },
          "metadata": {},
          "execution_count": 14
        }
      ]
    },
    {
      "cell_type": "code",
      "source": [
        "comlist2[-1]"
      ],
      "metadata": {
        "colab": {
          "base_uri": "https://localhost:8080/"
        },
        "id": "g3-H3T9Bq88g",
        "outputId": "35272b7a-5048-4774-abbb-2f5765e65669"
      },
      "execution_count": 15,
      "outputs": [
        {
          "output_type": "execute_result",
          "data": {
            "text/plain": [
              "['i', 'love', 'you']"
            ]
          },
          "metadata": {},
          "execution_count": 15
        }
      ]
    },
    {
      "cell_type": "code",
      "source": [
        "comlist2[-1][1]"
      ],
      "metadata": {
        "colab": {
          "base_uri": "https://localhost:8080/",
          "height": 35
        },
        "id": "AiWm-0SCq9iO",
        "outputId": "6e329266-0612-4a00-fd4b-3c1538796940"
      },
      "execution_count": 18,
      "outputs": [
        {
          "output_type": "execute_result",
          "data": {
            "application/vnd.google.colaboratory.intrinsic+json": {
              "type": "string"
            },
            "text/plain": [
              "'love'"
            ]
          },
          "metadata": {},
          "execution_count": 18
        }
      ]
    },
    {
      "cell_type": "markdown",
      "source": [
        "[-1] = ['i', 'love', 'you']를 가리 키고 그 안의 love를 가리키기 위해서는 1dmlf dls"
      ],
      "metadata": {
        "id": "jHqpAm_XrNX_"
      }
    },
    {
      "cell_type": "code",
      "source": [
        "clomlist2[[1]]"
      ],
      "metadata": {
        "colab": {
          "base_uri": "https://localhost:8080/",
          "height": 172
        },
        "id": "TxRgmqZDrFoW",
        "outputId": "f1059d6c-fe49-4bee-9ef7-bdbed0b0f6cd"
      },
      "execution_count": 19,
      "outputs": [
        {
          "output_type": "error",
          "ename": "NameError",
          "evalue": "ignored",
          "traceback": [
            "\u001b[0;31m---------------------------------------------------------------------------\u001b[0m",
            "\u001b[0;31mNameError\u001b[0m                                 Traceback (most recent call last)",
            "\u001b[0;32m<ipython-input-19-b2ac6f918eb7>\u001b[0m in \u001b[0;36m<module>\u001b[0;34m()\u001b[0m\n\u001b[0;32m----> 1\u001b[0;31m \u001b[0mclomlist2\u001b[0m\u001b[0;34m[\u001b[0m\u001b[0;34m[\u001b[0m\u001b[0;36m1\u001b[0m\u001b[0;34m]\u001b[0m\u001b[0;34m]\u001b[0m\u001b[0;34m\u001b[0m\u001b[0;34m\u001b[0m\u001b[0m\n\u001b[0m",
            "\u001b[0;31mNameError\u001b[0m: name 'clomlist2' is not defined"
          ]
        }
      ]
    },
    {
      "cell_type": "markdown",
      "source": [
        "indexing 할때 리스트의 인덱스는 인덱스이면 안된다.\n",
        "=> 오류가 나는 이유 : 리스트로 되어 있기 때문에 오류가 나게 된다. \n",
        "\n",
        "참고) stackoverflow :여러가지 오류를 올려놓은 사이트"
      ],
      "metadata": {
        "id": "AGNdVXFGro13"
      }
    },
    {
      "cell_type": "code",
      "source": [
        "comlist3 = [1,2,['a','b',['life','love','you']]]"
      ],
      "metadata": {
        "id": "QKBs-wdornwO"
      },
      "execution_count": 27,
      "outputs": []
    },
    {
      "cell_type": "code",
      "source": [
        "comlist3 [-1][-1][0]"
      ],
      "metadata": {
        "colab": {
          "base_uri": "https://localhost:8080/",
          "height": 35
        },
        "id": "dCFb-eksspkK",
        "outputId": "8d5e9ca8-4241-4e8e-cd04-f810ee16907f"
      },
      "execution_count": 28,
      "outputs": [
        {
          "output_type": "execute_result",
          "data": {
            "application/vnd.google.colaboratory.intrinsic+json": {
              "type": "string"
            },
            "text/plain": [
              "'life'"
            ]
          },
          "metadata": {},
          "execution_count": 28
        }
      ]
    },
    {
      "cell_type": "code",
      "source": [
        "comlist3[2][2][0]"
      ],
      "metadata": {
        "colab": {
          "base_uri": "https://localhost:8080/",
          "height": 35
        },
        "id": "9RN_hSUMs5FK",
        "outputId": "1c74e82c-5868-4ec4-c3d8-6a40897d1dda"
      },
      "execution_count": 29,
      "outputs": [
        {
          "output_type": "execute_result",
          "data": {
            "application/vnd.google.colaboratory.intrinsic+json": {
              "type": "string"
            },
            "text/plain": [
              "'life'"
            ]
          },
          "metadata": {},
          "execution_count": 29
        }
      ]
    },
    {
      "cell_type": "markdown",
      "source": [
        "리스트 )문자열과 숫자와 직접적인 덧셈은 불가능하다.(type error)\n"
      ],
      "metadata": {
        "id": "VJRHfpxytfbJ"
      }
    },
    {
      "cell_type": "code",
      "source": [
        "comlist3[0] + comlist3[2][0]"
      ],
      "metadata": {
        "colab": {
          "base_uri": "https://localhost:8080/",
          "height": 172
        },
        "id": "UrNt4tV4tbFn",
        "outputId": "beb0fa63-4437-4963-ccdb-c4717ac497c3"
      },
      "execution_count": 31,
      "outputs": [
        {
          "output_type": "error",
          "ename": "TypeError",
          "evalue": "ignored",
          "traceback": [
            "\u001b[0;31m---------------------------------------------------------------------------\u001b[0m",
            "\u001b[0;31mTypeError\u001b[0m                                 Traceback (most recent call last)",
            "\u001b[0;32m<ipython-input-31-df47cfd9177c>\u001b[0m in \u001b[0;36m<module>\u001b[0;34m()\u001b[0m\n\u001b[0;32m----> 1\u001b[0;31m \u001b[0mcomlist3\u001b[0m\u001b[0;34m[\u001b[0m\u001b[0;36m0\u001b[0m\u001b[0;34m]\u001b[0m \u001b[0;34m+\u001b[0m \u001b[0mcomlist3\u001b[0m\u001b[0;34m[\u001b[0m\u001b[0;36m2\u001b[0m\u001b[0;34m]\u001b[0m\u001b[0;34m[\u001b[0m\u001b[0;36m0\u001b[0m\u001b[0;34m]\u001b[0m\u001b[0;34m\u001b[0m\u001b[0;34m\u001b[0m\u001b[0m\n\u001b[0m",
            "\u001b[0;31mTypeError\u001b[0m: unsupported operand type(s) for +: 'int' and 'str'"
          ]
        }
      ]
    },
    {
      "cell_type": "code",
      "source": [
        "str(tmp1)"
      ],
      "metadata": {
        "id": "rT2Z2_q6twEa"
      },
      "execution_count": null,
      "outputs": []
    },
    {
      "cell_type": "markdown",
      "source": [
        "숫자를 스트링 형으로 바꿔야 숫자와 문자열의 덧셈이 가능해 진다. \n",
        "**요소의 형태가 같아야 연산이 가능**"
      ],
      "metadata": {
        "id": "LD_DoXSquKA8"
      }
    },
    {
      "cell_type": "markdown",
      "source": [
        "## **slicing**\n",
        "\n",
        ": 자르는 것"
      ],
      "metadata": {
        "id": "ptUEqXsQx2-8"
      }
    },
    {
      "cell_type": "code",
      "source": [
        "data\n"
      ],
      "metadata": {
        "colab": {
          "base_uri": "https://localhost:8080/"
        },
        "id": "cYrICsiXx7lX",
        "outputId": "e3f0cfda-0519-4628-991a-c27f5a7c70f6"
      },
      "execution_count": 38,
      "outputs": [
        {
          "output_type": "execute_result",
          "data": {
            "text/plain": [
              "[1, 2, 3, 4, 5]"
            ]
          },
          "metadata": {},
          "execution_count": 38
        }
      ]
    },
    {
      "cell_type": "code",
      "source": [
        "sData=data[:2]\n",
        "sData"
      ],
      "metadata": {
        "colab": {
          "base_uri": "https://localhost:8080/"
        },
        "id": "9ZImopnbyAu2",
        "outputId": "b5836cc4-ab62-4eb4-df5f-c9cf9be7651c"
      },
      "execution_count": 39,
      "outputs": [
        {
          "output_type": "execute_result",
          "data": {
            "text/plain": [
              "[1, 2]"
            ]
          },
          "metadata": {},
          "execution_count": 39
        }
      ]
    },
    {
      "cell_type": "markdown",
      "source": [
        "**맨 마지막에 있는 index의 값은 포함되지 않는다 **\n",
        "\n",
        ":2까지 slicing 하되 맨 마지막의 값은 포함하지 않는다. "
      ],
      "metadata": {
        "id": "sYQxuUVkybJJ"
      }
    },
    {
      "cell_type": "code",
      "source": [
        "sData2 = data[2:]\n",
        "sData2"
      ],
      "metadata": {
        "colab": {
          "base_uri": "https://localhost:8080/"
        },
        "id": "iu2UBBYgyKvt",
        "outputId": "c95b90f1-6169-4157-859b-47306b93e996"
      },
      "execution_count": 42,
      "outputs": [
        {
          "output_type": "execute_result",
          "data": {
            "text/plain": [
              "[3, 4, 5]"
            ]
          },
          "metadata": {},
          "execution_count": 42
        }
      ]
    },
    {
      "cell_type": "code",
      "source": [
        "data3 = [1,2,3,['a','b','c'],4,5]"
      ],
      "metadata": {
        "id": "XnKTUYT2yzM6"
      },
      "execution_count": 46,
      "outputs": []
    },
    {
      "cell_type": "code",
      "source": [
        "data3[2:5]"
      ],
      "metadata": {
        "colab": {
          "base_uri": "https://localhost:8080/"
        },
        "id": "mSaqzpHxy_K6",
        "outputId": "7be070ab-2a64-4067-c9ed-6b7b0a5cd700"
      },
      "execution_count": 48,
      "outputs": [
        {
          "output_type": "execute_result",
          "data": {
            "text/plain": [
              "[3, ['a', 'b', 'c'], 4]"
            ]
          },
          "metadata": {},
          "execution_count": 48
        }
      ]
    },
    {
      "cell_type": "code",
      "source": [
        "data3[3][:2]"
      ],
      "metadata": {
        "colab": {
          "base_uri": "https://localhost:8080/"
        },
        "id": "wOeg5IJezJ4F",
        "outputId": "2c3aea71-7e3e-4462-e918-82faf912277b"
      },
      "execution_count": 49,
      "outputs": [
        {
          "output_type": "execute_result",
          "data": {
            "text/plain": [
              "['a', 'b']"
            ]
          },
          "metadata": {},
          "execution_count": 49
        }
      ]
    },
    {
      "cell_type": "markdown",
      "source": [
        "## **List연산**"
      ],
      "metadata": {
        "id": "4Y6-YUUbzx_J"
      }
    },
    {
      "cell_type": "code",
      "source": [
        "a=[1,2,3]\n",
        "b=[4,5,6]\n",
        "a+b"
      ],
      "metadata": {
        "colab": {
          "base_uri": "https://localhost:8080/"
        },
        "id": "9NH5pzKSz2tR",
        "outputId": "53d2552a-baff-4963-f604-4f5ee7d6d8ef"
      },
      "execution_count": 50,
      "outputs": [
        {
          "output_type": "execute_result",
          "data": {
            "text/plain": [
              "[1, 2, 3, 4, 5, 6]"
            ]
          },
          "metadata": {},
          "execution_count": 50
        }
      ]
    },
    {
      "cell_type": "code",
      "source": [
        "a*3"
      ],
      "metadata": {
        "colab": {
          "base_uri": "https://localhost:8080/"
        },
        "id": "5MKiEKFZ0JHg",
        "outputId": "e22d43dc-9af8-4cd6-8e51-fe3aabcae84e"
      },
      "execution_count": 51,
      "outputs": [
        {
          "output_type": "execute_result",
          "data": {
            "text/plain": [
              "[1, 2, 3, 1, 2, 3, 1, 2, 3]"
            ]
          },
          "metadata": {},
          "execution_count": 51
        }
      ]
    },
    {
      "cell_type": "markdown",
      "source": [
        "문자열이 반복되게 된다. "
      ],
      "metadata": {
        "id": "aV9tEy7q0S75"
      }
    },
    {
      "cell_type": "code",
      "source": [
        "a"
      ],
      "metadata": {
        "colab": {
          "base_uri": "https://localhost:8080/"
        },
        "id": "pMgVQWOe0MIN",
        "outputId": "e955667a-79c0-46c2-f7ea-97fcbf9fd515"
      },
      "execution_count": 52,
      "outputs": [
        {
          "output_type": "execute_result",
          "data": {
            "text/plain": [
              "[1, 2, 3]"
            ]
          },
          "metadata": {},
          "execution_count": 52
        }
      ]
    },
    {
      "cell_type": "markdown",
      "source": [
        "원본 리스트는 바뀌지 않는다. "
      ],
      "metadata": {
        "id": "y93ZDp050aHz"
      }
    },
    {
      "cell_type": "code",
      "source": [
        "len(a)"
      ],
      "metadata": {
        "colab": {
          "base_uri": "https://localhost:8080/"
        },
        "id": "m36WkzX-0V52",
        "outputId": "7c740724-8d5c-407b-a191-84751a2b3402"
      },
      "execution_count": 53,
      "outputs": [
        {
          "output_type": "execute_result",
          "data": {
            "text/plain": [
              "3"
            ]
          },
          "metadata": {},
          "execution_count": 53
        }
      ]
    },
    {
      "cell_type": "markdown",
      "source": [
        "a의 길이 : len(a) 함수"
      ],
      "metadata": {
        "id": "wjenIP7l0nVQ"
      }
    },
    {
      "cell_type": "code",
      "source": [
        "a[2] + 'hahaha'"
      ],
      "metadata": {
        "colab": {
          "base_uri": "https://localhost:8080/",
          "height": 172
        },
        "id": "x9SxLeUO0lr8",
        "outputId": "0c417972-e7d4-4c1d-d045-8c7005c18e44"
      },
      "execution_count": 54,
      "outputs": [
        {
          "output_type": "error",
          "ename": "TypeError",
          "evalue": "ignored",
          "traceback": [
            "\u001b[0;31m---------------------------------------------------------------------------\u001b[0m",
            "\u001b[0;31mTypeError\u001b[0m                                 Traceback (most recent call last)",
            "\u001b[0;32m<ipython-input-54-194fa3184bd9>\u001b[0m in \u001b[0;36m<module>\u001b[0;34m()\u001b[0m\n\u001b[0;32m----> 1\u001b[0;31m \u001b[0ma\u001b[0m\u001b[0;34m[\u001b[0m\u001b[0;36m2\u001b[0m\u001b[0;34m]\u001b[0m \u001b[0;34m+\u001b[0m \u001b[0;34m'hahaha'\u001b[0m\u001b[0;34m\u001b[0m\u001b[0;34m\u001b[0m\u001b[0m\n\u001b[0m",
            "\u001b[0;31mTypeError\u001b[0m: unsupported operand type(s) for +: 'int' and 'str'"
          ]
        }
      ]
    },
    {
      "cell_type": "markdown",
      "source": [
        "typeerror  : 문자열 에러\n",
        "--> 문자열과 숫자 연산은 불가능하다."
      ],
      "metadata": {
        "id": "pS0cnyL_00F-"
      }
    },
    {
      "cell_type": "code",
      "source": [
        "str(a[2]) +'hahaha'"
      ],
      "metadata": {
        "colab": {
          "base_uri": "https://localhost:8080/",
          "height": 35
        },
        "id": "V7Sy1GXs0wn3",
        "outputId": "0c2ebd7c-9c04-4811-dbeb-b2afd0b15bfc"
      },
      "execution_count": 55,
      "outputs": [
        {
          "output_type": "execute_result",
          "data": {
            "application/vnd.google.colaboratory.intrinsic+json": {
              "type": "string"
            },
            "text/plain": [
              "'3hahaha'"
            ]
          },
          "metadata": {},
          "execution_count": 55
        }
      ]
    },
    {
      "cell_type": "markdown",
      "source": [
        "**str :숫자를 문자로 (강제)형변환**"
      ],
      "metadata": {
        "id": "8WXiqdFv12Jb"
      }
    },
    {
      "cell_type": "code",
      "source": [
        "help(str)"
      ],
      "metadata": {
        "id": "xINXSj5b0_kw"
      },
      "execution_count": null,
      "outputs": []
    },
    {
      "cell_type": "markdown",
      "source": [
        "문자형 / 클래스 / 함수명을 모르겠을 때 사용하는 함수 :help(함수명)"
      ],
      "metadata": {
        "id": "YZnbbEBW1bJd"
      }
    },
    {
      "cell_type": "code",
      "source": [
        "a[-1] = 5\n",
        "a"
      ],
      "metadata": {
        "colab": {
          "base_uri": "https://localhost:8080/"
        },
        "id": "jj5DEYT21aUP",
        "outputId": "146b0507-8c9f-4dd9-8c2e-82614dd72ce5"
      },
      "execution_count": 62,
      "outputs": [
        {
          "output_type": "execute_result",
          "data": {
            "text/plain": [
              "[1, 2, 5]"
            ]
          },
          "metadata": {},
          "execution_count": 62
        }
      ]
    },
    {
      "cell_type": "markdown",
      "source": [
        "- 리스트와 문자열 지우는 차이가 뭔지 한번 더 공부하기"
      ],
      "metadata": {
        "id": "8A8b91DG3-OR"
      }
    },
    {
      "cell_type": "code",
      "source": [
        "a = [1,2,5]\n",
        "a"
      ],
      "metadata": {
        "colab": {
          "base_uri": "https://localhost:8080/"
        },
        "id": "l2meMLde1kVf",
        "outputId": "721f7661-8733-4c1a-ddb1-4e8ee08fd96a"
      },
      "execution_count": 74,
      "outputs": [
        {
          "output_type": "execute_result",
          "data": {
            "text/plain": [
              "[1, 2, 5]"
            ]
          },
          "metadata": {},
          "execution_count": 74
        }
      ]
    },
    {
      "cell_type": "code",
      "source": [
        "del a[0]\n",
        "a"
      ],
      "metadata": {
        "colab": {
          "base_uri": "https://localhost:8080/"
        },
        "id": "v_Te5D481kdJ",
        "outputId": "0ae04879-5979-44ce-94ff-0a04e1ce93da"
      },
      "execution_count": 75,
      "outputs": [
        {
          "output_type": "execute_result",
          "data": {
            "text/plain": [
              "[2, 5]"
            ]
          },
          "metadata": {},
          "execution_count": 75
        }
      ]
    },
    {
      "cell_type": "code",
      "source": [
        "a =[1,2,3,4,5]"
      ],
      "metadata": {
        "id": "NAC2J5Ew4n00"
      },
      "execution_count": 72,
      "outputs": []
    },
    {
      "cell_type": "code",
      "source": [
        "del a[2:]\n",
        "a"
      ],
      "metadata": {
        "colab": {
          "base_uri": "https://localhost:8080/"
        },
        "id": "XnF_BvC94yCE",
        "outputId": "b2da1397-6e4d-4423-e2c5-7b2880b701c9"
      },
      "execution_count": 73,
      "outputs": [
        {
          "output_type": "execute_result",
          "data": {
            "text/plain": [
              "[1, 2]"
            ]
          },
          "metadata": {},
          "execution_count": 73
        }
      ]
    },
    {
      "cell_type": "markdown",
      "source": [
        "##** list에서 쓸 수 있는 함수들 **"
      ],
      "metadata": {
        "id": "xBdIG4DY46ft"
      }
    },
    {
      "cell_type": "markdown",
      "source": [
        "###추가 **.append()함수**\n"
      ],
      "metadata": {
        "id": "SBJrniQsZ0jg"
      }
    },
    {
      "cell_type": "code",
      "source": [
        "a =[1,2,3]\n",
        "a.append(4)\n",
        "a"
      ],
      "metadata": {
        "colab": {
          "base_uri": "https://localhost:8080/"
        },
        "id": "zNq8D9cy40uU",
        "outputId": "82af0f62-655a-4eba-89a2-0b63a102233d"
      },
      "execution_count": 79,
      "outputs": [
        {
          "output_type": "execute_result",
          "data": {
            "text/plain": [
              "[1, 2, 3, 4]"
            ]
          },
          "metadata": {},
          "execution_count": 79
        }
      ]
    },
    {
      "cell_type": "code",
      "source": [
        "a.append([5,6])\n",
        "a"
      ],
      "metadata": {
        "colab": {
          "base_uri": "https://localhost:8080/"
        },
        "id": "Duw2-X2l5Lxe",
        "outputId": "ebd68b90-0076-4670-9adb-181334e88f78"
      },
      "execution_count": 80,
      "outputs": [
        {
          "output_type": "execute_result",
          "data": {
            "text/plain": [
              "[1, 2, 3, 4, [5, 6]]"
            ]
          },
          "metadata": {},
          "execution_count": 80
        }
      ]
    },
    {
      "cell_type": "code",
      "source": [
        "a[4][0]"
      ],
      "metadata": {
        "colab": {
          "base_uri": "https://localhost:8080/"
        },
        "id": "lPqrjEaO5gpu",
        "outputId": "1d0f45ba-bf77-4c50-cbf8-3aa6bce26784"
      },
      "execution_count": 81,
      "outputs": [
        {
          "output_type": "execute_result",
          "data": {
            "text/plain": [
              "5"
            ]
          },
          "metadata": {},
          "execution_count": 81
        }
      ]
    },
    {
      "cell_type": "code",
      "source": [
        "a[-1][0]"
      ],
      "metadata": {
        "colab": {
          "base_uri": "https://localhost:8080/"
        },
        "id": "wHLLkEJN5x01",
        "outputId": "12b50517-b087-45e5-a249-388b83068845"
      },
      "execution_count": 82,
      "outputs": [
        {
          "output_type": "execute_result",
          "data": {
            "text/plain": [
              "5"
            ]
          },
          "metadata": {},
          "execution_count": 82
        }
      ]
    },
    {
      "cell_type": "markdown",
      "source": [
        "### 정렬_ .sort()"
      ],
      "metadata": {
        "id": "0eOddaMLLPO2"
      }
    },
    {
      "cell_type": "code",
      "source": [
        "a =[1,2,3,4]"
      ],
      "metadata": {
        "id": "sbOWdswf5zbk"
      },
      "execution_count": 83,
      "outputs": []
    },
    {
      "cell_type": "code",
      "source": [
        "a"
      ],
      "metadata": {
        "colab": {
          "base_uri": "https://localhost:8080/"
        },
        "id": "zpR8FQ2jLXeO",
        "outputId": "67f4e1dc-94f6-4d9a-9d8e-0bfd21ff5ed3"
      },
      "execution_count": 84,
      "outputs": [
        {
          "output_type": "execute_result",
          "data": {
            "text/plain": [
              "[1, 2, 3, 4]"
            ]
          },
          "metadata": {},
          "execution_count": 84
        }
      ]
    },
    {
      "cell_type": "code",
      "source": [
        "a.sort()\n",
        "a"
      ],
      "metadata": {
        "colab": {
          "base_uri": "https://localhost:8080/"
        },
        "id": "h6rKsiBALXu3",
        "outputId": "0f8877a8-2dfb-40d5-9ad5-ed664193f7b0"
      },
      "execution_count": 86,
      "outputs": [
        {
          "output_type": "execute_result",
          "data": {
            "text/plain": [
              "[1, 2, 3, 4]"
            ]
          },
          "metadata": {},
          "execution_count": 86
        }
      ]
    },
    {
      "cell_type": "code",
      "source": [
        "b = ['a','d','b','c']\n",
        "b"
      ],
      "metadata": {
        "colab": {
          "base_uri": "https://localhost:8080/"
        },
        "id": "sqFKdgT7LZdh",
        "outputId": "538402a3-7379-4adf-c572-339d01b36f69"
      },
      "execution_count": 89,
      "outputs": [
        {
          "output_type": "execute_result",
          "data": {
            "text/plain": [
              "['a', 'd', 'b', 'c']"
            ]
          },
          "metadata": {},
          "execution_count": 89
        }
      ]
    },
    {
      "cell_type": "code",
      "source": [
        "b.sort()\n",
        "b"
      ],
      "metadata": {
        "colab": {
          "base_uri": "https://localhost:8080/"
        },
        "id": "7XfY2agULiPr",
        "outputId": "e684ed1c-6ff2-4eca-e967-496e2e3bb086"
      },
      "execution_count": 91,
      "outputs": [
        {
          "output_type": "execute_result",
          "data": {
            "text/plain": [
              "['a', 'b', 'c', 'd']"
            ]
          },
          "metadata": {},
          "execution_count": 91
        }
      ]
    },
    {
      "cell_type": "markdown",
      "source": [
        "컴퓨터는 영어의 순서를 모른다.\n",
        "문자열 -> 아스키코드로 변환하여 컴퓨터가 인식하게 함"
      ],
      "metadata": {
        "id": "pITx802YMJsz"
      }
    },
    {
      "cell_type": "markdown",
      "source": [
        "### 순서반대_ .reverse()함수"
      ],
      "metadata": {
        "id": "I1IQj0UcaEAx"
      }
    },
    {
      "cell_type": "code",
      "source": [
        "b.reverse()"
      ],
      "metadata": {
        "id": "UHDpJTyLLqHi"
      },
      "execution_count": 92,
      "outputs": []
    },
    {
      "cell_type": "markdown",
      "source": [
        "ㄴ 순서를 반대로 하고 싶을 경우"
      ],
      "metadata": {
        "id": "7tTFkFJDMigQ"
      }
    },
    {
      "cell_type": "code",
      "source": [
        "b"
      ],
      "metadata": {
        "colab": {
          "base_uri": "https://localhost:8080/"
        },
        "id": "l1XY2RgbNKLN",
        "outputId": "ba5fba28-63b6-4d38-8526-df2670eacfed"
      },
      "execution_count": 95,
      "outputs": [
        {
          "output_type": "execute_result",
          "data": {
            "text/plain": [
              "['d', 'c', 'b', 'a']"
            ]
          },
          "metadata": {},
          "execution_count": 95
        }
      ]
    },
    {
      "cell_type": "markdown",
      "source": [
        "### index위치 찾기_ .index() 함수"
      ],
      "metadata": {
        "id": "NSYVEKHWafyI"
      }
    },
    {
      "cell_type": "code",
      "source": [
        "b.index('b')"
      ],
      "metadata": {
        "colab": {
          "base_uri": "https://localhost:8080/"
        },
        "id": "mUNAkN5UMhcU",
        "outputId": "9daab6af-3ecf-477e-92cc-bf7ab3a212a8"
      },
      "execution_count": 94,
      "outputs": [
        {
          "output_type": "execute_result",
          "data": {
            "text/plain": [
              "2"
            ]
          },
          "metadata": {},
          "execution_count": 94
        }
      ]
    },
    {
      "cell_type": "markdown",
      "source": [
        "ㄴ 특정한 값을 가지고 그 위치(index)를 알고 싶을때\n",
        "\n",
        "ㄴ 코드 해석 : 'b' 라는 문자의 위치는?\n"
      ],
      "metadata": {
        "id": "Xsjc5fH6MozP"
      }
    },
    {
      "cell_type": "code",
      "source": [
        "a = [1,2,3]"
      ],
      "metadata": {
        "id": "SHDl6hfsMhwB"
      },
      "execution_count": 103,
      "outputs": []
    },
    {
      "cell_type": "markdown",
      "source": [
        "###위치지정 .insert(index,object) 함수"
      ],
      "metadata": {
        "id": "46QnjFUvar9Z"
      }
    },
    {
      "cell_type": "code",
      "source": [
        "a.insert a[4]"
      ],
      "metadata": {
        "colab": {
          "base_uri": "https://localhost:8080/",
          "height": 136
        },
        "id": "6wiycbDzNrGV",
        "outputId": "ed9b084e-e780-4d64-a92f-674b08db9f19"
      },
      "execution_count": 100,
      "outputs": [
        {
          "output_type": "error",
          "ename": "SyntaxError",
          "evalue": "ignored",
          "traceback": [
            "\u001b[0;36m  File \u001b[0;32m\"<ipython-input-100-c06799ebb591>\"\u001b[0;36m, line \u001b[0;32m1\u001b[0m\n\u001b[0;31m    insert a[4]\u001b[0m\n\u001b[0m           ^\u001b[0m\n\u001b[0;31mSyntaxError\u001b[0m\u001b[0;31m:\u001b[0m invalid syntax\n"
          ]
        }
      ]
    },
    {
      "cell_type": "markdown",
      "source": [
        "\n",
        "*   들어갈 자리, 들어갈 값이 필요하다. \n",
        "*   변수. insert(index, object)\n",
        "\n"
      ],
      "metadata": {
        "id": "6EPMqoeqOCD8"
      }
    },
    {
      "cell_type": "code",
      "source": [
        "a.insert(0,4)\n",
        "a"
      ],
      "metadata": {
        "colab": {
          "base_uri": "https://localhost:8080/"
        },
        "id": "GuWeWAVaOBdU",
        "outputId": "217882e2-a109-41fe-e02e-c0b030542f59"
      },
      "execution_count": 104,
      "outputs": [
        {
          "output_type": "execute_result",
          "data": {
            "text/plain": [
              "[4, 1, 2, 3]"
            ]
          },
          "metadata": {},
          "execution_count": 104
        }
      ]
    },
    {
      "cell_type": "code",
      "source": [
        "a.insert(3,5)"
      ],
      "metadata": {
        "id": "QoJKgNlpNwvS"
      },
      "execution_count": 106,
      "outputs": []
    },
    {
      "cell_type": "markdown",
      "source": [
        "**특정 위치에 인덱스를 넣고 싶을 경우**"
      ],
      "metadata": {
        "id": "24OBwFw9C4ZY"
      }
    },
    {
      "cell_type": "code",
      "source": [
        "a= [1,2,3]\n",
        "a = a*3\n",
        "a"
      ],
      "metadata": {
        "colab": {
          "base_uri": "https://localhost:8080/"
        },
        "id": "KAWTrPt3PEtE",
        "outputId": "7705698b-0822-4f45-c608-145637e9bbbc"
      },
      "execution_count": 108,
      "outputs": [
        {
          "output_type": "execute_result",
          "data": {
            "text/plain": [
              "[1, 2, 3, 1, 2, 3, 1, 2, 3]"
            ]
          },
          "metadata": {},
          "execution_count": 108
        }
      ]
    },
    {
      "cell_type": "markdown",
      "source": [
        "### 특정 요소 삭제 .remove(요소)"
      ],
      "metadata": {
        "id": "8rqmW2TNbjRz"
      }
    },
    {
      "cell_type": "code",
      "source": [
        "a.remove(3)\n",
        "a"
      ],
      "metadata": {
        "colab": {
          "base_uri": "https://localhost:8080/"
        },
        "id": "amMUJJqBPL_j",
        "outputId": "913cb1a8-4003-4253-8eee-4f6dd2fbe2a0"
      },
      "execution_count": 110,
      "outputs": [
        {
          "output_type": "execute_result",
          "data": {
            "text/plain": [
              "[1, 2, 1, 2, 1, 2, 3]"
            ]
          },
          "metadata": {},
          "execution_count": 110
        }
      ]
    },
    {
      "cell_type": "markdown",
      "source": [
        "remove : value로 넣은 입력값을 찾아 한번만 찾아서 지운다. \n",
        "\n",
        "\n",
        "*  3을 3개다 지우고 싶으면 : 3번 실행하면 됨\n",
        "*   리스트에 있는 숫자를 모두 지우고 싶으면 에러가 나지 않을 때 까지 반복해서 remove 함수를 사용하면 된다. \n",
        "\n",
        "\n",
        "ex ) \n",
        "-> 리스트에 없는 숫자를 지우게 되면 에러가 나게된다. "
      ],
      "metadata": {
        "id": "H_Leq_WtPh_Z"
      }
    },
    {
      "cell_type": "code",
      "source": [
        "a  = [1,2,3,1,2,3]\n",
        "\n",
        "\n",
        "--------------이건 그냥 보기\n",
        "while True:\n",
        "    try :\n",
        "      a.remove(3)\n",
        "      print(a)\n",
        "\n",
        "    except Exception as e:\n",
        "      print('e')\n",
        "      break\n",
        "\n",
        "a"
      ],
      "metadata": {
        "colab": {
          "base_uri": "https://localhost:8080/"
        },
        "id": "JSsszbS3Pfgp",
        "outputId": "83c35163-d006-4a45-e55b-581d04f33190"
      },
      "execution_count": 120,
      "outputs": [
        {
          "output_type": "stream",
          "name": "stdout",
          "text": [
            "[1, 2, 1, 2, 3]\n",
            "[1, 2, 1, 2]\n",
            "e\n"
          ]
        },
        {
          "output_type": "execute_result",
          "data": {
            "text/plain": [
              "[1, 2, 1, 2]"
            ]
          },
          "metadata": {},
          "execution_count": 120
        }
      ]
    },
    {
      "cell_type": "markdown",
      "source": [
        "### .pop() 함수"
      ],
      "metadata": {
        "id": "FWXSmYWqbsFn"
      }
    },
    {
      "cell_type": "code",
      "source": [
        "a =[1,2,3]\n",
        "\n",
        "a.pop(2)\n",
        "\n",
        "a"
      ],
      "metadata": {
        "colab": {
          "base_uri": "https://localhost:8080/"
        },
        "id": "jOtuPCddPwCT",
        "outputId": "0bfb76bf-d6a3-4d6d-e033-9e6557c88350"
      },
      "execution_count": 255,
      "outputs": [
        {
          "output_type": "execute_result",
          "data": {
            "text/plain": [
              "[1, 2]"
            ]
          },
          "metadata": {},
          "execution_count": 255
        }
      ]
    },
    {
      "cell_type": "markdown",
      "source": [
        "마지막 숫자를 빼오고 싶을 경우\n",
        "변수.pop()\n",
        "\n",
        "val.a 는 뭔지 알아보기"
      ],
      "metadata": {
        "id": "WghQB_3ARfJY"
      }
    },
    {
      "cell_type": "markdown",
      "source": [
        "####remove,pop 차이점"
      ],
      "metadata": {
        "id": "wBfcTYzYbyCp"
      }
    },
    {
      "cell_type": "code",
      "source": [
        "a = [1,2,3]\n",
        "\n",
        "a.remove(3)"
      ],
      "metadata": {
        "id": "s5FvYl1LR8I6"
      },
      "execution_count": null,
      "outputs": []
    },
    {
      "cell_type": "markdown",
      "source": [
        "remove 함수, pop 함수 차이점은?\n",
        "\n",
        "= 입력값이 다르다 :pop 은 인덱스값 , remove는 인자값\n",
        "\n",
        "\n",
        "= pop() 반환 된 값을 필요로하는 경우 인덱스를 제거하고, remove() 값으로 요소를 삭제합니다"
      ],
      "metadata": {
        "id": "uBI2FTP_SDvj"
      }
    },
    {
      "cell_type": "markdown",
      "source": [
        "### 특정 요소 개수 세기_ .count()함수"
      ],
      "metadata": {
        "id": "LMSypGhzb38u"
      }
    },
    {
      "cell_type": "code",
      "source": [
        "a = [1,2,3,1,2]\n",
        "a.count(1)"
      ],
      "metadata": {
        "colab": {
          "base_uri": "https://localhost:8080/"
        },
        "id": "f5LC0qkASPUd",
        "outputId": "e5765bcd-02f0-4906-f08a-dbb99bf0b331"
      },
      "execution_count": 126,
      "outputs": [
        {
          "output_type": "execute_result",
          "data": {
            "text/plain": [
              "2"
            ]
          },
          "metadata": {},
          "execution_count": 126
        }
      ]
    },
    {
      "cell_type": "markdown",
      "source": [
        "count 함수 = 인자값의 갯수 "
      ],
      "metadata": {
        "id": "Nz8cDOBJS3EF"
      }
    },
    {
      "cell_type": "code",
      "source": [
        "a.count(3)"
      ],
      "metadata": {
        "colab": {
          "base_uri": "https://localhost:8080/"
        },
        "id": "CDGjcNK6SPKU",
        "outputId": "3b716f96-01b6-4f0d-cdc3-1daa2b496b29"
      },
      "execution_count": 127,
      "outputs": [
        {
          "output_type": "execute_result",
          "data": {
            "text/plain": [
              "1"
            ]
          },
          "metadata": {},
          "execution_count": 127
        }
      ]
    },
    {
      "cell_type": "markdown",
      "source": [
        "### 확장 함수 :.extend()"
      ],
      "metadata": {
        "id": "jh9MYLgbcWEA"
      }
    },
    {
      "cell_type": "code",
      "source": [
        "a =[ 1,2,3]\n",
        "b = [4,5,6]\n",
        "a+b"
      ],
      "metadata": {
        "colab": {
          "base_uri": "https://localhost:8080/"
        },
        "id": "-WsQv2PGSO7q",
        "outputId": "0aef6cde-92ac-4906-ebe1-4e06b1330e85"
      },
      "execution_count": 284,
      "outputs": [
        {
          "output_type": "execute_result",
          "data": {
            "text/plain": [
              "[1, 2, 3, 4, 5, 6]"
            ]
          },
          "metadata": {},
          "execution_count": 284
        }
      ]
    },
    {
      "cell_type": "code",
      "source": [
        "b"
      ],
      "metadata": {
        "colab": {
          "base_uri": "https://localhost:8080/"
        },
        "id": "k5CyDF5KPaM6",
        "outputId": "ea438cba-194b-427a-a029-cd46c2406c25"
      },
      "execution_count": 286,
      "outputs": [
        {
          "output_type": "execute_result",
          "data": {
            "text/plain": [
              "[4, 5, 6]"
            ]
          },
          "metadata": {},
          "execution_count": 286
        }
      ]
    },
    {
      "cell_type": "markdown",
      "source": [
        "**a+b를 새로운 리스트로 돌려준다.**\n",
        "**a,b 리스트는 각각 그대로이다. (변한게 없다.)**"
      ],
      "metadata": {
        "id": "8IYMEkjcS-AW"
      }
    },
    {
      "cell_type": "code",
      "source": [
        "a.extend(b)\n",
        "a"
      ],
      "metadata": {
        "colab": {
          "base_uri": "https://localhost:8080/"
        },
        "id": "kFgGLxqqSOsz",
        "outputId": "c7db4ff0-6610-40ba-a46d-ea365b3b75ed"
      },
      "execution_count": 287,
      "outputs": [
        {
          "output_type": "execute_result",
          "data": {
            "text/plain": [
              "[1, 2, 3, 4, 5, 6]"
            ]
          },
          "metadata": {},
          "execution_count": 287
        }
      ]
    },
    {
      "cell_type": "code",
      "source": [
        "b"
      ],
      "metadata": {
        "colab": {
          "base_uri": "https://localhost:8080/"
        },
        "id": "BDUnU__tPeTw",
        "outputId": "efa1aca3-8caf-45fc-a7b6-faacee46ebd3"
      },
      "execution_count": 288,
      "outputs": [
        {
          "output_type": "execute_result",
          "data": {
            "text/plain": [
              "[4, 5, 6]"
            ]
          },
          "metadata": {},
          "execution_count": 288
        }
      ]
    },
    {
      "cell_type": "markdown",
      "source": [
        "확장함수( .extend())  : a = a+b \n",
        "\n",
        "ex ) a.extend(b) a에 a+b값을 넣어준다.  "
      ],
      "metadata": {
        "id": "ybXy617NTPuI"
      }
    },
    {
      "cell_type": "markdown",
      "source": [
        "### ===== 실습====\n"
      ],
      "metadata": {
        "id": "AN8fNcUEUPBL"
      }
    },
    {
      "cell_type": "markdown",
      "source": [
        "#### append (삽입함수)"
      ],
      "metadata": {
        "id": "Tw50w27dv4oD"
      }
    },
    {
      "cell_type": "code",
      "source": [
        "movie_title = ['스파이더 맨','결관의 피', '씽2게더']"
      ],
      "metadata": {
        "id": "l19TmrWcTOuc"
      },
      "execution_count": 147,
      "outputs": []
    },
    {
      "cell_type": "code",
      "source": [
        "movie_title"
      ],
      "metadata": {
        "colab": {
          "base_uri": "https://localhost:8080/"
        },
        "id": "VmYnXE9UUneL",
        "outputId": "c9f41542-c039-40f6-b654-2bdd19f17cf3"
      },
      "execution_count": 148,
      "outputs": [
        {
          "output_type": "execute_result",
          "data": {
            "text/plain": [
              "['스파이더 맨', '결관의 피', '씽2게더']"
            ]
          },
          "metadata": {},
          "execution_count": 148
        }
      ]
    },
    {
      "cell_type": "code",
      "source": [
        "movie_title [0]"
      ],
      "metadata": {
        "colab": {
          "base_uri": "https://localhost:8080/",
          "height": 35
        },
        "id": "_vQwKkuPUvDi",
        "outputId": "923f6324-7f78-43fd-ad25-dac9a3544da5"
      },
      "execution_count": 135,
      "outputs": [
        {
          "output_type": "execute_result",
          "data": {
            "application/vnd.google.colaboratory.intrinsic+json": {
              "type": "string"
            },
            "text/plain": [
              "'스파이더 맨'"
            ]
          },
          "metadata": {},
          "execution_count": 135
        }
      ]
    },
    {
      "cell_type": "code",
      "source": [
        "movie_title.append('킹스맨')\n",
        "movie_title"
      ],
      "metadata": {
        "colab": {
          "base_uri": "https://localhost:8080/"
        },
        "id": "phoSoTWoVmnb",
        "outputId": "366e05a0-071c-43e2-d0f5-bfd5329d60a1"
      },
      "execution_count": 151,
      "outputs": [
        {
          "output_type": "execute_result",
          "data": {
            "text/plain": [
              "['스파이더 맨', '결관의 피', '씽2게더', '킹스맨', '킹스맨']"
            ]
          },
          "metadata": {},
          "execution_count": 151
        }
      ]
    },
    {
      "cell_type": "markdown",
      "source": [
        "함수 타입이 tuple 일경우 변환\n",
        "Ex) movie_title = list(movie_title)"
      ],
      "metadata": {
        "id": "P6HJfPXLXKX8"
      }
    },
    {
      "cell_type": "markdown",
      "source": [
        "#### insert (특정 위치 삽입)"
      ],
      "metadata": {
        "id": "qevXnQsMwBTa"
      }
    },
    {
      "cell_type": "code",
      "source": [
        "movie_title.insert(1,'매트릭스')\n",
        "movie_title"
      ],
      "metadata": {
        "colab": {
          "base_uri": "https://localhost:8080/"
        },
        "id": "u6dfqlevV8ck",
        "outputId": "7fa31f48-4d9e-4741-ac8a-17aa35c60527"
      },
      "execution_count": 154,
      "outputs": [
        {
          "output_type": "execute_result",
          "data": {
            "text/plain": [
              "['스파이더 맨', '매트릭스', '결관의 피', '씽2게더', '킹스맨', '왕의 남자', '왕의 남자', '킹스맨']"
            ]
          },
          "metadata": {},
          "execution_count": 154
        }
      ]
    },
    {
      "cell_type": "markdown",
      "source": [
        "#### del/pop/remove(인자) :인자 제거"
      ],
      "metadata": {
        "id": "Zpgkg-DlwIqu"
      }
    },
    {
      "cell_type": "code",
      "source": [
        "movie_title.remove('매트릭스')\n",
        "movie_title"
      ],
      "metadata": {
        "colab": {
          "base_uri": "https://localhost:8080/"
        },
        "id": "oYV_egPnXyBn",
        "outputId": "3080866a-10bb-421e-fe1c-24b76dfbda9c"
      },
      "execution_count": 155,
      "outputs": [
        {
          "output_type": "execute_result",
          "data": {
            "text/plain": [
              "['스파이더 맨', '결관의 피', '씽2게더', '킹스맨', '왕의 남자', '왕의 남자', '킹스맨']"
            ]
          },
          "metadata": {},
          "execution_count": 155
        }
      ]
    },
    {
      "cell_type": "code",
      "source": [
        "movie_title = ['스파이더 맨','매트릭스','결관의 피', '씽2게더']\n",
        "\n",
        "movie_title.pop(1)\n",
        "movie_title"
      ],
      "metadata": {
        "colab": {
          "base_uri": "https://localhost:8080/"
        },
        "id": "AAzOgp4RcGIr",
        "outputId": "4d8e27e0-7425-43fa-c4ea-d029af2cd95a"
      },
      "execution_count": 156,
      "outputs": [
        {
          "output_type": "execute_result",
          "data": {
            "text/plain": [
              "['스파이더 맨', '결관의 피', '씽2게더']"
            ]
          },
          "metadata": {},
          "execution_count": 156
        }
      ]
    },
    {
      "cell_type": "code",
      "source": [
        "movie_title = ['스파이더 맨','매트릭스','결관의 피', '씽2게더']\n",
        "del movie_title[1]\n",
        "movie_title"
      ],
      "metadata": {
        "colab": {
          "base_uri": "https://localhost:8080/"
        },
        "id": "Fln13qNRc2Yq",
        "outputId": "4c141888-44d6-4422-88f9-33e573f8edbd"
      },
      "execution_count": 159,
      "outputs": [
        {
          "output_type": "execute_result",
          "data": {
            "text/plain": [
              "['스파이더 맨', '결관의 피', '씽2게더']"
            ]
          },
          "metadata": {},
          "execution_count": 159
        }
      ]
    },
    {
      "cell_type": "markdown",
      "source": [
        "#### 확장함수 extend (list 합치기)"
      ],
      "metadata": {
        "id": "_DiNcnfhvkjL"
      }
    },
    {
      "cell_type": "code",
      "source": [
        "# language \n",
        "# ['C', 'C++', 'Java', 'Python', 'Javascript'] 결과 추출되도록"
      ],
      "metadata": {
        "id": "yxUiaZ1OeMsA"
      },
      "execution_count": null,
      "outputs": []
    },
    {
      "cell_type": "code",
      "source": [
        "compile_lang = ['C','C++','Java']\n",
        "\n",
        "interprete_lang = ['Python','Javascript']\n"
      ],
      "metadata": {
        "id": "ARYmGihcc2MX"
      },
      "execution_count": 167,
      "outputs": []
    },
    {
      "cell_type": "code",
      "source": [
        "language = compile_lang +interprete_lang\n",
        "language"
      ],
      "metadata": {
        "colab": {
          "base_uri": "https://localhost:8080/"
        },
        "id": "ismmKf0Lc2B7",
        "outputId": "84d6e84c-11e5-4d9a-8846-b67fafc663ac"
      },
      "execution_count": 161,
      "outputs": [
        {
          "output_type": "execute_result",
          "data": {
            "text/plain": [
              "['C', 'c++', 'Java', 'Python', 'Javascript']"
            ]
          },
          "metadata": {},
          "execution_count": 161
        }
      ]
    },
    {
      "cell_type": "code",
      "source": [
        "compile_lang.extend(interprete_lang)\n",
        "language = compile_lang\n",
        "language"
      ],
      "metadata": {
        "colab": {
          "base_uri": "https://localhost:8080/"
        },
        "id": "Vg6zXtUUdxQJ",
        "outputId": "445e804b-44a5-460f-fc45-e09c9acc468b"
      },
      "execution_count": 163,
      "outputs": [
        {
          "output_type": "execute_result",
          "data": {
            "text/plain": [
              "['C', 'c++', 'Java', 'Python', 'Javascript', 'Python', 'Javascript']"
            ]
          },
          "metadata": {},
          "execution_count": 163
        }
      ]
    },
    {
      "cell_type": "code",
      "source": [
        "language = compile_lang.extend(interprete_lang)\n",
        "\n"
      ],
      "metadata": {
        "id": "5Ig76W3Cd3XK"
      },
      "execution_count": 169,
      "outputs": []
    },
    {
      "cell_type": "markdown",
      "source": [
        "#### list nums의 최대 최소값"
      ],
      "metadata": {
        "id": "OQm3Ochnuzz_"
      }
    },
    {
      "cell_type": "code",
      "source": [
        ""
      ],
      "metadata": {
        "id": "SzpIakN_uznO"
      },
      "execution_count": null,
      "outputs": []
    },
    {
      "cell_type": "code",
      "source": [
        "# list nums의 최대 최소값\n",
        "nums = [1,2,3,4,5,6]"
      ],
      "metadata": {
        "id": "KNFiuOD2er5B"
      },
      "execution_count": 174,
      "outputs": []
    },
    {
      "cell_type": "code",
      "source": [
        "print(f'최대값 :{max(nums)}')\n",
        "print(f'최소값 :{min(nums)}')"
      ],
      "metadata": {
        "colab": {
          "base_uri": "https://localhost:8080/"
        },
        "id": "FDbiVteYfIjz",
        "outputId": "a3416612-fdbc-4c51-ceac-489fd3071bc3"
      },
      "execution_count": 184,
      "outputs": [
        {
          "output_type": "stream",
          "name": "stdout",
          "text": [
            "최대값 : 6\n",
            "최소값 : 1\n"
          ]
        }
      ]
    },
    {
      "cell_type": "markdown",
      "source": [
        "#### 합,평균"
      ],
      "metadata": {
        "id": "l5syslSLnSag"
      }
    },
    {
      "cell_type": "code",
      "source": [
        "# num_sum = sum(nums)\n",
        "#print(f'총합 :{sum(nums)}')\n",
        "print(f'총합 :{sum(nums)}')"
      ],
      "metadata": {
        "colab": {
          "base_uri": "https://localhost:8080/"
        },
        "id": "YYDZafBIio7f",
        "outputId": "5ccdf710-4de4-40a5-e2e0-ede628137a79"
      },
      "execution_count": 201,
      "outputs": [
        {
          "output_type": "stream",
          "name": "stdout",
          "text": [
            "총합 :21\n"
          ]
        }
      ]
    },
    {
      "cell_type": "code",
      "source": [
        "#. 평균값\n",
        "\n",
        "avg_num = num_sum/len(nums)\n",
        "print(f'평균 :{avg_num}')\n",
        "#avg_num\n"
      ],
      "metadata": {
        "colab": {
          "base_uri": "https://localhost:8080/"
        },
        "id": "UHYn_ZQ2fcqx",
        "outputId": "3a89ef0b-6ca9-4feb-bb10-e186ba196235"
      },
      "execution_count": 203,
      "outputs": [
        {
          "output_type": "stream",
          "name": "stdout",
          "text": [
            "평균 :3.5\n"
          ]
        }
      ]
    },
    {
      "cell_type": "code",
      "source": [
        "print (f'평균 :{sum(nums)/len(nums)}')"
      ],
      "metadata": {
        "colab": {
          "base_uri": "https://localhost:8080/"
        },
        "id": "AulZVsmUnzs3",
        "outputId": "18d3dfe2-7099-4a13-b308-4163a12e2f10"
      },
      "execution_count": 208,
      "outputs": [
        {
          "output_type": "stream",
          "name": "stdout",
          "text": [
            "평균 :3.5\n"
          ]
        }
      ]
    },
    {
      "cell_type": "code",
      "source": [
        "import numpy as np\n",
        "\n",
        "array = np.array(nums)\n",
        "print(f'평균값 :{np.mean(array)}')"
      ],
      "metadata": {
        "colab": {
          "base_uri": "https://localhost:8080/"
        },
        "id": "s25VyWQZoCqb",
        "outputId": "e6a5779f-bd2b-4f75-fbbc-661d8b43217f"
      },
      "execution_count": 207,
      "outputs": [
        {
          "output_type": "stream",
          "name": "stdout",
          "text": [
            "평균값 :3.5\n"
          ]
        }
      ]
    },
    {
      "cell_type": "markdown",
      "source": [
        "===================================================="
      ],
      "metadata": {
        "id": "uD8HBJrgrsAw"
      }
    },
    {
      "cell_type": "markdown",
      "source": [
        "#### 특정인자 제거"
      ],
      "metadata": {
        "id": "80nMXvJcuepU"
      }
    },
    {
      "cell_type": "code",
      "source": [
        "\n",
        "#124000,124000,123500,124000,124000,124000,124500 을 결과로 추출해라\n",
        "\n",
        "stock = [20220110,124000,124000,123500,124000,124000,124000,124500]"
      ],
      "metadata": {
        "id": "DhrqZvD1pFgG"
      },
      "execution_count": 225,
      "outputs": []
    },
    {
      "cell_type": "code",
      "source": [
        "# case1\n",
        "stock = [20220110,124000,124000,123500,124000,124000,124000,124500]\n",
        "stock.pop(0)   \n",
        "stock\n"
      ],
      "metadata": {
        "colab": {
          "base_uri": "https://localhost:8080/"
        },
        "id": "3KtWTFKUpntd",
        "outputId": "6e00d85e-f8b6-4149-a63e-9bc6e336a9ed"
      },
      "execution_count": 229,
      "outputs": [
        {
          "output_type": "execute_result",
          "data": {
            "text/plain": [
              "[124000, 124000, 123500, 124000, 124000, 124000, 124500]"
            ]
          },
          "metadata": {},
          "execution_count": 229
        }
      ]
    },
    {
      "cell_type": "markdown",
      "source": [
        "stock.pop(0) 만 하면 \n",
        "(0) 번째 인덱스 값만 추출되므로\n",
        "0번째를 제외한 값을 보기 위해서는 \n",
        "stock를 작성해주어야한다. "
      ],
      "metadata": {
        "id": "rdFEq6t-rAaZ"
      }
    },
    {
      "cell_type": "code",
      "source": [
        "#case2\n",
        "stock = [20220110,124000,124000,123500,124000,124000,124000,124500]\n",
        "stock[1:]"
      ],
      "metadata": {
        "colab": {
          "base_uri": "https://localhost:8080/"
        },
        "id": "7PVZBWO_q1pP",
        "outputId": "0c33ca42-7147-41e4-c81b-d43e873c4964"
      },
      "execution_count": 230,
      "outputs": [
        {
          "output_type": "execute_result",
          "data": {
            "text/plain": [
              "[124000, 124000, 123500, 124000, 124000, 124000, 124500]"
            ]
          },
          "metadata": {},
          "execution_count": 230
        }
      ]
    },
    {
      "cell_type": "code",
      "source": [
        "stock = [20220110,124000,124000,123500,124000,124000,124000,124500]\n",
        "del stock[0]\n",
        "stock"
      ],
      "metadata": {
        "colab": {
          "base_uri": "https://localhost:8080/"
        },
        "id": "vLIA0N3_qPH7",
        "outputId": "c7842c76-ac0f-44e6-e046-51be146a248e"
      },
      "execution_count": 231,
      "outputs": [
        {
          "output_type": "execute_result",
          "data": {
            "text/plain": [
              "[124000, 124000, 123500, 124000, 124000, 124000, 124500]"
            ]
          },
          "metadata": {},
          "execution_count": 231
        }
      ]
    },
    {
      "cell_type": "code",
      "source": [
        "#case 4\n",
        "stock = [20220110,124000,124000,123500,124000,124000,124000,124500]\n",
        "stock.remove(20220110)\n",
        "stock"
      ],
      "metadata": {
        "colab": {
          "base_uri": "https://localhost:8080/"
        },
        "id": "Phzjsza-rx6t",
        "outputId": "516233fd-35c7-4512-d8e2-0106273e57fa"
      },
      "execution_count": 235,
      "outputs": [
        {
          "output_type": "execute_result",
          "data": {
            "text/plain": [
              "[124000, 124000, 123500, 124000, 124000, 124000, 124500]"
            ]
          },
          "metadata": {},
          "execution_count": 235
        }
      ]
    },
    {
      "cell_type": "markdown",
      "source": [
        "===================================================="
      ],
      "metadata": {
        "id": "4UlvQjq9rdSp"
      }
    },
    {
      "cell_type": "markdown",
      "source": [
        "#### slice를 이용한 홀수, 짝수,역수 추출하기"
      ],
      "metadata": {
        "id": "2--hXW94tSUi"
      }
    },
    {
      "cell_type": "code",
      "source": [
        "#(start index :stop index:step(얼마나 건너뛸껀지))\n",
        "# ':: ' = step_건너뛰다 의미\n",
        "nums =[1,2,3,4,5,6]"
      ],
      "metadata": {
        "id": "uxl68YT_qXco"
      },
      "execution_count": 243,
      "outputs": []
    },
    {
      "cell_type": "code",
      "source": [
        "nums[1::2]"
      ],
      "metadata": {
        "colab": {
          "base_uri": "https://localhost:8080/"
        },
        "id": "FgBy7eP8swSI",
        "outputId": "2d947e66-5b7a-45ff-e293-b4ee3113ade8"
      },
      "execution_count": 238,
      "outputs": [
        {
          "output_type": "execute_result",
          "data": {
            "text/plain": [
              "[2, 4, 6]"
            ]
          },
          "metadata": {},
          "execution_count": 238
        }
      ]
    },
    {
      "cell_type": "code",
      "source": [
        "nums[::2]"
      ],
      "metadata": {
        "colab": {
          "base_uri": "https://localhost:8080/"
        },
        "id": "FhOEcYuMsybQ",
        "outputId": "0f343145-1cd8-4a9e-fba3-a10c50c379cf"
      },
      "execution_count": 240,
      "outputs": [
        {
          "output_type": "execute_result",
          "data": {
            "text/plain": [
              "[1, 3, 5]"
            ]
          },
          "metadata": {},
          "execution_count": 240
        }
      ]
    },
    {
      "cell_type": "code",
      "source": [
        "nums =[1,2,3,4,5,6]\n",
        "#nums.reverse()\n",
        "#nums\n",
        "#----------------#\n",
        "nums[::-1]\n"
      ],
      "metadata": {
        "colab": {
          "base_uri": "https://localhost:8080/"
        },
        "id": "qLirF7FCs1Ns",
        "outputId": "fad6e48e-5801-463c-d0e1-7ed2b8c8b762"
      },
      "execution_count": 250,
      "outputs": [
        {
          "output_type": "execute_result",
          "data": {
            "text/plain": [
              "[6, 5, 4, 3, 2, 1]"
            ]
          },
          "metadata": {},
          "execution_count": 250
        }
      ]
    },
    {
      "cell_type": "markdown",
      "source": [
        "#Tuple\n"
      ],
      "metadata": {
        "id": "aRaaNztd4LNL"
      }
    },
    {
      "cell_type": "code",
      "source": [
        "#lst = []\n",
        "#lst =list()\n",
        "\n",
        "t1 =()\n",
        "t2 =(1,)\n",
        "t3 = (1,2,3)\n",
        "t4 = 1,2,3\n",
        "t5 = ('a','b',('ab','cd'))"
      ],
      "metadata": {
        "id": "ayAn6xf-4OyT"
      },
      "execution_count": 256,
      "outputs": []
    },
    {
      "cell_type": "markdown",
      "source": [
        "빈 tuple 은 소괄호를 사용한다. \n",
        "ex) t1 =()"
      ],
      "metadata": {
        "id": "TP12uOG74wbl"
      }
    },
    {
      "cell_type": "code",
      "source": [
        "t4"
      ],
      "metadata": {
        "colab": {
          "base_uri": "https://localhost:8080/"
        },
        "id": "SH8hKrsa4PH7",
        "outputId": "497bb7f4-2b26-4490-d59d-f44bbaecf688"
      },
      "execution_count": 257,
      "outputs": [
        {
          "output_type": "execute_result",
          "data": {
            "text/plain": [
              "(1, 2, 3)"
            ]
          },
          "metadata": {},
          "execution_count": 257
        }
      ]
    },
    {
      "cell_type": "code",
      "source": [
        "type(t4)"
      ],
      "metadata": {
        "colab": {
          "base_uri": "https://localhost:8080/"
        },
        "id": "WOpDYgOB5d2C",
        "outputId": "62f65667-d663-4ef9-8601-a7270db8de3f"
      },
      "execution_count": 258,
      "outputs": [
        {
          "output_type": "execute_result",
          "data": {
            "text/plain": [
              "tuple"
            ]
          },
          "metadata": {},
          "execution_count": 258
        }
      ]
    },
    {
      "cell_type": "code",
      "source": [
        "t1 = {1,2,'a','b'}"
      ],
      "metadata": {
        "id": "ojE_XQpt5hEk"
      },
      "execution_count": 259,
      "outputs": []
    },
    {
      "cell_type": "code",
      "source": [
        "del t1[0]"
      ],
      "metadata": {
        "colab": {
          "base_uri": "https://localhost:8080/",
          "height": 172
        },
        "id": "TsNxHUZ450kG",
        "outputId": "ea1dc43d-131b-4314-b268-413d80ceada9"
      },
      "execution_count": 261,
      "outputs": [
        {
          "output_type": "error",
          "ename": "TypeError",
          "evalue": "ignored",
          "traceback": [
            "\u001b[0;31m---------------------------------------------------------------------------\u001b[0m",
            "\u001b[0;31mTypeError\u001b[0m                                 Traceback (most recent call last)",
            "\u001b[0;32m<ipython-input-261-8940bcde932e>\u001b[0m in \u001b[0;36m<module>\u001b[0;34m()\u001b[0m\n\u001b[0;32m----> 1\u001b[0;31m \u001b[0;32mdel\u001b[0m \u001b[0mt1\u001b[0m\u001b[0;34m[\u001b[0m\u001b[0;36m0\u001b[0m\u001b[0;34m]\u001b[0m\u001b[0;34m\u001b[0m\u001b[0;34m\u001b[0m\u001b[0m\n\u001b[0m",
            "\u001b[0;31mTypeError\u001b[0m: 'set' object doesn't support item deletion"
          ]
        }
      ]
    },
    {
      "cell_type": "code",
      "source": [
        "t1 = {1,2,'a','b'}\n",
        "#tuple을 편집하기 위해서는 형변환이 필요하다. \n",
        "#  t1 = list(t1)\n",
        "del t1[0]\n",
        "\n",
        "t1\n"
      ],
      "metadata": {
        "colab": {
          "base_uri": "https://localhost:8080/"
        },
        "id": "0kO7EccR549O",
        "outputId": "93d945b3-2dcc-4848-df7e-9207d44c8f70"
      },
      "execution_count": 265,
      "outputs": [
        {
          "output_type": "execute_result",
          "data": {
            "text/plain": [
              "[2, 'a', 'b']"
            ]
          },
          "metadata": {},
          "execution_count": 265
        }
      ]
    },
    {
      "cell_type": "code",
      "source": [
        "t1 = {1,2,'a','b'}\n",
        "\n",
        "t1[0] = 100\n",
        "\n",
        "t1\n",
        "\n",
        "#========맞게 하는 방법\n",
        "#t1 = {1,2,'a','b'}\n",
        "\n",
        "#t1 = list(t1)\n",
        "#t1[0] = 100\n",
        "\n",
        "#t1"
      ],
      "metadata": {
        "colab": {
          "base_uri": "https://localhost:8080/"
        },
        "id": "_G2Ihixh6Kv_",
        "outputId": "bad6b1b1-536e-41a2-ee9c-1797b2d60ac2"
      },
      "execution_count": 267,
      "outputs": [
        {
          "output_type": "execute_result",
          "data": {
            "text/plain": [
              "[100, 2, 'a', 'b']"
            ]
          },
          "metadata": {},
          "execution_count": 267
        }
      ]
    },
    {
      "cell_type": "markdown",
      "source": [
        "중요하지 X\n",
        "변수가 '할당' 용어를 사용하는 이유  \n",
        "= 값의 위치정보만 가지고 있다. "
      ],
      "metadata": {
        "id": "YIxepUFb7W6C"
      }
    },
    {
      "cell_type": "markdown",
      "source": [
        "##tuple indexing\n",
        "list와의 차이점 :요소(element)의 수정이 불가능하다."
      ],
      "metadata": {
        "id": "4V7WELPx8pf-"
      }
    },
    {
      "cell_type": "code",
      "source": [
        "#튜플 indexing\n",
        "t1 = (1,2,'a','b')\n",
        "t1"
      ],
      "metadata": {
        "colab": {
          "base_uri": "https://localhost:8080/"
        },
        "id": "rftT26KT6Uhx",
        "outputId": "9403f34b-c477-4589-eba6-3aaba06f8570"
      },
      "execution_count": 280,
      "outputs": [
        {
          "output_type": "execute_result",
          "data": {
            "text/plain": [
              "(1, 2, 'a', 'b')"
            ]
          },
          "metadata": {},
          "execution_count": 280
        }
      ]
    },
    {
      "cell_type": "code",
      "source": [
        "type(t1)"
      ],
      "metadata": {
        "colab": {
          "base_uri": "https://localhost:8080/"
        },
        "id": "n46z2YmrLTG_",
        "outputId": "f2ec6396-31e9-4cf0-87ef-d1beba4f188a"
      },
      "execution_count": 281,
      "outputs": [
        {
          "output_type": "execute_result",
          "data": {
            "text/plain": [
              "tuple"
            ]
          },
          "metadata": {},
          "execution_count": 281
        }
      ]
    },
    {
      "cell_type": "code",
      "source": [
        "t1[0]"
      ],
      "metadata": {
        "colab": {
          "base_uri": "https://localhost:8080/",
          "height": 172
        },
        "id": "L0HZSQC88Sz6",
        "outputId": "54d17c99-d470-454b-a81d-aea973169b14"
      },
      "execution_count": 279,
      "outputs": [
        {
          "output_type": "error",
          "ename": "TypeError",
          "evalue": "ignored",
          "traceback": [
            "\u001b[0;31m---------------------------------------------------------------------------\u001b[0m",
            "\u001b[0;31mTypeError\u001b[0m                                 Traceback (most recent call last)",
            "\u001b[0;32m<ipython-input-279-850284943274>\u001b[0m in \u001b[0;36m<module>\u001b[0;34m()\u001b[0m\n\u001b[0;32m----> 1\u001b[0;31m \u001b[0mt1\u001b[0m\u001b[0;34m[\u001b[0m\u001b[0;36m0\u001b[0m\u001b[0;34m]\u001b[0m\u001b[0;34m\u001b[0m\u001b[0;34m\u001b[0m\u001b[0m\n\u001b[0m",
            "\u001b[0;31mTypeError\u001b[0m: 'set' object is not subscriptable"
          ]
        }
      ]
    },
    {
      "cell_type": "markdown",
      "source": [
        "##tuple slicing"
      ],
      "metadata": {
        "id": "rRwDjFgD8uNT"
      }
    },
    {
      "cell_type": "code",
      "source": [
        "#튜플 slicing\n",
        "t1[1:]"
      ],
      "metadata": {
        "colab": {
          "base_uri": "https://localhost:8080/"
        },
        "id": "o4o3oW8b8Uk7",
        "outputId": "38e70b2d-719b-4c1c-c716-d9f87f16eb03"
      },
      "execution_count": 282,
      "outputs": [
        {
          "output_type": "execute_result",
          "data": {
            "text/plain": [
              "(2, 'a', 'b')"
            ]
          },
          "metadata": {},
          "execution_count": 282
        }
      ]
    },
    {
      "cell_type": "markdown",
      "source": [
        "##Tuple 연산자"
      ],
      "metadata": {
        "id": "tMmVGmSy9sSA"
      }
    },
    {
      "cell_type": "code",
      "source": [
        "t1 = (1,2,'a','b')\n",
        "t2 = ('c','d')\n",
        "t1+t2"
      ],
      "metadata": {
        "colab": {
          "base_uri": "https://localhost:8080/"
        },
        "id": "pO288mVV8iOl",
        "outputId": "fb943b8b-eaea-41d1-bd1c-97c0c6cda239"
      },
      "execution_count": 271,
      "outputs": [
        {
          "output_type": "execute_result",
          "data": {
            "text/plain": [
              "(1, 2, 'a', 'b', 'c', 'd')"
            ]
          },
          "metadata": {},
          "execution_count": 271
        }
      ]
    },
    {
      "cell_type": "code",
      "source": [
        "t2 = ('c','d')\n",
        "t2*3"
      ],
      "metadata": {
        "colab": {
          "base_uri": "https://localhost:8080/"
        },
        "id": "cO0D-Q8C9DKa",
        "outputId": "154b9557-9d6e-428f-c8dc-a86ecd6155a5"
      },
      "execution_count": 283,
      "outputs": [
        {
          "output_type": "execute_result",
          "data": {
            "text/plain": [
              "('c', 'd', 'c', 'd', 'c', 'd')"
            ]
          },
          "metadata": {},
          "execution_count": 283
        }
      ]
    },
    {
      "cell_type": "code",
      "source": [
        "len(t1)"
      ],
      "metadata": {
        "colab": {
          "base_uri": "https://localhost:8080/"
        },
        "id": "tPf9osoG9H5-",
        "outputId": "33a03fc9-5af5-4ad8-ee17-528510b456f5"
      },
      "execution_count": 273,
      "outputs": [
        {
          "output_type": "execute_result",
          "data": {
            "text/plain": [
              "4"
            ]
          },
          "metadata": {},
          "execution_count": 273
        }
      ]
    },
    {
      "cell_type": "markdown",
      "source": [
        "t1 의 개수(길이) 찾기"
      ],
      "metadata": {
        "id": "XJSklk7W9Rg8"
      }
    },
    {
      "cell_type": "code",
      "source": [
        "t1 = (1,2,'a','b')\n",
        "t2 = ('c','d')\n",
        "\n",
        "t2.count('c')"
      ],
      "metadata": {
        "colab": {
          "base_uri": "https://localhost:8080/"
        },
        "id": "dy3lM7E39MF3",
        "outputId": "1a4893f3-d9ba-42c9-cd21-089028d9b159"
      },
      "execution_count": 275,
      "outputs": [
        {
          "output_type": "execute_result",
          "data": {
            "text/plain": [
              "1"
            ]
          },
          "metadata": {},
          "execution_count": 275
        }
      ]
    },
    {
      "cell_type": "code",
      "source": [
        ""
      ],
      "metadata": {
        "id": "rH5nIXAa9kkZ"
      },
      "execution_count": null,
      "outputs": []
    }
  ]
}